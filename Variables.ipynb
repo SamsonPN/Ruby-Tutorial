{
 "cells": [
  {
   "cell_type": "markdown",
   "id": "8128efcd",
   "metadata": {},
   "source": [
    "# Variables\n",
    "* convention:\n",
    "    - lowercase\n",
    "    - separate two words using underscore, no camel case"
   ]
  },
  {
   "cell_type": "code",
   "execution_count": 1,
   "id": "597bc55d",
   "metadata": {},
   "outputs": [
    {
     "name": "stdout",
     "output_type": "stream",
     "text": [
      "There once was a man named John\n"
     ]
    }
   ],
   "source": [
    "character_name = \"John\";\n",
    "character_age = \"35\";\n",
    "\n",
    "puts (\"There once was a man named \" + character_name);"
   ]
  },
  {
   "cell_type": "markdown",
   "id": "41c8725c",
   "metadata": {},
   "source": []
  }
 ],
 "metadata": {
  "kernelspec": {
   "display_name": "Ruby 3.1.3",
   "language": "ruby",
   "name": "ruby"
  },
  "language_info": {
   "file_extension": ".rb",
   "mimetype": "application/x-ruby",
   "name": "ruby",
   "version": "3.1.3"
  }
 },
 "nbformat": 4,
 "nbformat_minor": 5
}
