{
 "cells": [
  {
   "cell_type": "markdown",
   "id": "374604dd",
   "metadata": {},
   "source": [
    "* [object_name].class is similar to typeof"
   ]
  },
  {
   "cell_type": "code",
   "execution_count": 12,
   "id": "53287b90",
   "metadata": {},
   "outputs": [
    {
     "name": "stdout",
     "output_type": "stream",
     "text": [
      "String\n",
      "Integer\n",
      "Float\n",
      "TrueClass\n",
      "NilClass\n"
     ]
    }
   ],
   "source": [
    "#string\n",
    "name = \"Samson\"\n",
    "puts name.class\n",
    "\n",
    "# integer\n",
    "age = 26\n",
    "puts age.class\n",
    "\n",
    "# float\n",
    "gpa = 3.57\n",
    "puts gpa.class\n",
    "\n",
    "# boolean\n",
    "is_male = true\n",
    "puts is_male.class\n",
    "\n",
    "# non-value type like null in JavaScript\n",
    "flaws = nil\n",
    "puts flaws.class"
   ]
  },
  {
   "cell_type": "code",
   "execution_count": null,
   "id": "857ae689",
   "metadata": {},
   "outputs": [],
   "source": []
  }
 ],
 "metadata": {
  "kernelspec": {
   "display_name": "Ruby 3.1.3",
   "language": "ruby",
   "name": "ruby"
  },
  "language_info": {
   "file_extension": ".rb",
   "mimetype": "application/x-ruby",
   "name": "ruby",
   "version": "3.1.3"
  }
 },
 "nbformat": 4,
 "nbformat_minor": 5
}
