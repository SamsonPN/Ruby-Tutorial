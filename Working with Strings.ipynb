{
 "cells": [
  {
   "cell_type": "markdown",
   "id": "e3eaf7c1",
   "metadata": {},
   "source": [
    "# String Interpolation\n",
    "* similar to JavaScript, you can use a certain syntax to stick a variable inside the string"
   ]
  },
  {
   "cell_type": "code",
   "execution_count": 2,
   "id": "e6e72dcc",
   "metadata": {},
   "outputs": [
    {
     "name": "stdout",
     "output_type": "stream",
     "text": [
      "Hello World, Samson Nguyen\n",
      "This will not work with single quotes, #{first_name} #{last_name}\n"
     ]
    }
   ],
   "source": [
    "first_name = \"Samson\"\n",
    "last_name = \"Nguyen\"\n",
    "puts(\"Hello World, #{first_name} #{last_name}\")\n",
    "puts ('This will not work with single quotes, #{first_name} #{last_name}')"
   ]
  },
  {
   "cell_type": "markdown",
   "id": "31fcdcbb",
   "metadata": {},
   "source": [
    "# Common Methods"
   ]
  },
  {
   "cell_type": "markdown",
   "id": "81f07e30",
   "metadata": {},
   "source": [
    "## Length of string"
   ]
  },
  {
   "cell_type": "code",
   "execution_count": 3,
   "id": "d21f1c8b",
   "metadata": {},
   "outputs": [
    {
     "name": "stdout",
     "output_type": "stream",
     "text": [
      "12\n"
     ]
    }
   ],
   "source": [
    "phrase = \"Hello World!\"\n",
    "puts phrase.length"
   ]
  },
  {
   "cell_type": "markdown",
   "id": "5be832b0",
   "metadata": {},
   "source": [
    "# Gettings a range (slice)"
   ]
  },
  {
   "cell_type": "code",
   "execution_count": 9,
   "id": "76f1e16a",
   "metadata": {},
   "outputs": [
    {
     "name": "stdout",
     "output_type": "stream",
     "text": [
      "Hel\n"
     ]
    }
   ],
   "source": [
    "phrase = \"Hello World!\"\n",
    "\n",
    "puts phrase[0, 3]"
   ]
  },
  {
   "cell_type": "markdown",
   "id": "2e74baed",
   "metadata": {},
   "source": [
    "## Uppercase/Lowercase"
   ]
  },
  {
   "cell_type": "code",
   "execution_count": 2,
   "id": "56ba6c70",
   "metadata": {},
   "outputs": [
    {
     "name": "stdout",
     "output_type": "stream",
     "text": [
      "HELLO WORLD\n",
      "hello world\n"
     ]
    }
   ],
   "source": [
    "phrase = \"Hello World\"\n",
    "\n",
    "puts phrase.upcase()\n",
    "\n",
    "puts phrase.downcase()"
   ]
  },
  {
   "cell_type": "markdown",
   "id": "4e2e6e9e",
   "metadata": {},
   "source": [
    "## Includes"
   ]
  },
  {
   "cell_type": "code",
   "execution_count": 8,
   "id": "e5398291",
   "metadata": {},
   "outputs": [
    {
     "name": "stdout",
     "output_type": "stream",
     "text": [
      "true\n",
      "true\n"
     ]
    }
   ],
   "source": [
    "phrase = \"Hello World!\"\n",
    "\n",
    "puts phrase.include? \"Hello\"\n",
    "puts phrase.include?(\"World!\")"
   ]
  },
  {
   "cell_type": "markdown",
   "id": "4dc82096",
   "metadata": {},
   "source": [
    "## Index of"
   ]
  },
  {
   "cell_type": "code",
   "execution_count": 10,
   "id": "ee431245",
   "metadata": {},
   "outputs": [
    {
     "name": "stdout",
     "output_type": "stream",
     "text": [
      "1\n"
     ]
    }
   ],
   "source": [
    "phrase = \"Hello World!\"\n",
    "\n",
    "puts phrase.index(\"ello\")"
   ]
  },
  {
   "cell_type": "code",
   "execution_count": null,
   "id": "66600298",
   "metadata": {},
   "outputs": [],
   "source": []
  }
 ],
 "metadata": {
  "kernelspec": {
   "display_name": "Ruby 3.1.3",
   "language": "ruby",
   "name": "ruby"
  },
  "language_info": {
   "file_extension": ".rb",
   "mimetype": "application/x-ruby",
   "name": "ruby",
   "version": "3.1.3"
  }
 },
 "nbformat": 4,
 "nbformat_minor": 5
}
