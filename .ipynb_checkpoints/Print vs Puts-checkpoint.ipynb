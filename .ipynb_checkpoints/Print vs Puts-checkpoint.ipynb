{
 "cells": [
  {
   "cell_type": "markdown",
   "id": "be979f6c",
   "metadata": {},
   "source": [
    "# print vs puts\n",
    "* puts prints out the string AND puts a new line after it, print doesn't do that"
   ]
  },
  {
   "cell_type": "code",
   "execution_count": 5,
   "id": "a216aa63",
   "metadata": {},
   "outputs": [
    {
     "name": "stdout",
     "output_type": "stream",
     "text": [
      "Giraffe AcademyMike\n"
     ]
    }
   ],
   "source": [
    "print \"Giraffe Academy\"\n",
    "puts \"Mike\""
   ]
  },
  {
   "cell_type": "code",
   "execution_count": 3,
   "id": "06565e72",
   "metadata": {},
   "outputs": [
    {
     "name": "stdout",
     "output_type": "stream",
     "text": [
      "Mike\n",
      "Giraffe Academy"
     ]
    }
   ],
   "source": [
    "puts \"Mike\"\n",
    "print \"Giraffe Academy\""
   ]
  },
  {
   "cell_type": "code",
   "execution_count": 6,
   "id": "ea4dc2cf",
   "metadata": {},
   "outputs": [
    {
     "name": "stdout",
     "output_type": "stream",
     "text": [
      "Giraffe Academy is cool"
     ]
    }
   ],
   "source": [
    "print \"Giraffe Academy\"\n",
    "print \" is cool\""
   ]
  },
  {
   "cell_type": "code",
   "execution_count": 7,
   "id": "398529be",
   "metadata": {},
   "outputs": [
    {
     "name": "stdout",
     "output_type": "stream",
     "text": [
      "Giraffe Academy\n",
      " is cool\n"
     ]
    }
   ],
   "source": [
    "puts \"Giraffe Academy\"\n",
    "puts \" is cool\""
   ]
  },
  {
   "cell_type": "code",
   "execution_count": null,
   "id": "5180c737",
   "metadata": {},
   "outputs": [],
   "source": []
  }
 ],
 "metadata": {
  "kernelspec": {
   "display_name": "Ruby 3.1.3",
   "language": "ruby",
   "name": "ruby"
  },
  "language_info": {
   "file_extension": ".rb",
   "mimetype": "application/x-ruby",
   "name": "ruby",
   "version": "3.1.3"
  }
 },
 "nbformat": 4,
 "nbformat_minor": 5
}
